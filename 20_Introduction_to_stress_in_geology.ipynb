{
 "cells": [
  {
   "cell_type": "markdown",
   "metadata": {},
   "source": [
    "# Stress in geology"
   ]
  },
  {
   "cell_type": "markdown",
   "metadata": {},
   "source": [
    "In continuum mechanics, the Cauchy **stress tensor** $\\boldsymbol\\sigma$ is a second order tensor, with nine components $\\sigma_{ij}$, that completely define the state of stress at a point inside a material in the deformed placement or configuration.\n",
    "\n",
    "<img width=\"50%\" src=\"images/stress_tensor_cartesian.png\">\n",
    "\n",
    "$$\\boldsymbol{\\sigma} = \\sigma_{ij} = \\left[{\\begin{matrix} \\mathbf{T}^{(\\mathbf{e}_1)} & \\mathbf{T}^{(\\mathbf{e}_2)} & \\mathbf{T}^{(\\mathbf{e}_3)} \\end{matrix}}\\right]  = \\left[{\\begin{matrix} \\sigma _{11} & \\sigma _{21} & \\sigma _{31} \\\\ \\sigma _{12} & \\sigma _{22} & \\sigma _{32} \\\\ \\sigma _{13} & \\sigma _{23} & \\sigma _{33} \\\\ \\end{matrix}}\\right]$$"
   ]
  },
  {
   "cell_type": "markdown",
   "metadata": {},
   "source": [
    "where $\\sigma_{11}$, $\\sigma_{22}$, and $\\sigma_{33}$ are normal stresses, and $\\sigma_{12}$, $\\sigma_{13}$, $\\sigma_{21}$, $\\sigma_{23}$, $\\sigma_{31}$, and $\\sigma_{32}$ are shear stresses."
   ]
  },
  {
   "cell_type": "markdown",
   "metadata": {},
   "source": [
    "#### Note\n",
    "The first index $i$ indicates that the stress acts on a plane normal to the $x_i$-axis, and the second index $j$ denotes the direction in which the stress acts.\n",
    "A stress component is positive if it acts in the positive direction of the coordinate axes, and if the plane where it acts has an outward normal vector pointing in the positive coordinate direction."
   ]
  },
  {
   "cell_type": "markdown",
   "metadata": {},
   "source": [
    "## Cauchy’s stress theorem—stress tensor\n",
    "According to Cauchy’s fundamental theorem, also called **Cauchy's stress theorem**, merely by knowing the stress vectors on three mutually perpendicular planes, the stress vector on any other plane passing through that point can be found through coordinate transformation equations.\n",
    "\n",
    "$$\\left[ {\\begin{array}{*{20}{c}}\n",
    "   {T_1^{\\left( n \\right)}}  \\\\\n",
    "   {T_2^{\\left( n \\right)}}  \\\\\n",
    "   {T_3^{\\left( n \\right)}}  \\\\\n",
    "\\end{array}} \\right] = \\left[ {\\begin{array}{*{20}{c}}\n",
    "   {{\\sigma _{11}}} & {{\\sigma _{21}}} & {{\\sigma _{31}}}  \\\\\n",
    "   {{\\sigma _{12}}} & {{\\sigma _{22}}} & {{\\sigma _{32}}}  \\\\\n",
    "   {{\\sigma _{13}}} & {{\\sigma _{23}}} & {{\\sigma _{33}}}  \\\\\n",
    "\\end{array}} \\right] \\cdot \\left[ {\\begin{array}{*{20}{c}}\n",
    "   {{n_1}}  \\\\\n",
    "   {{n_2}}  \\\\\n",
    "   {{n_3}}  \\\\\n",
    "\\end{array}} \\right] \\quad \\text{or} \\quad \\mathbf{T}^{(\\mathbf{n})} = \\sigma _{ij} \\cdot \\bf{n}$$\n",
    "\n",
    "This equation implies that the stress vector $\\bf{T}^{\\left( n \\right)}$ at any point $P$ in a continuum associated with a plane with normal unit vector $n$\n",
    "can be expressed as a function of the stress vectors on the planes perpendicular to the coordinate axes, i.e. in terms of the components $\\sigma_{ij}$ of the stress tensor $\\boldsymbol{\\sigma}$.\n"
   ]
  },
  {
   "cell_type": "markdown",
   "metadata": {},
   "source": [
    "### 2D example\n",
    "Let's see how we can derive the Cauchy's stress theorem in 2D based on force balance on triangular element."
   ]
  },
  {
   "cell_type": "markdown",
   "metadata": {},
   "source": [
    "<img width=\"65%\" src=\"images/force_balance_1.png\">"
   ]
  },
  {
   "cell_type": "markdown",
   "metadata": {},
   "source": [
    "According to force balance $\\sum{\\mathbf{F}} = \\mathbf{0}$\n",
    "\n",
    "$$T_1\\cdot dA = \\sigma_1\\cdot dA_1 = \\sigma_1\\cdot dA\\cdot n_1$$\n",
    "$$T_2\\cdot dA = \\sigma_2\\cdot dA_2 = \\sigma_2\\cdot dA\\cdot n_2$$\n",
    "\n",
    "or\n",
    "\n",
    "$$\\left[ {\\begin{array}{}T_1 \\\\ T_2 \\end{array}} \\right] =\n",
    "\\left[ {\\begin{array}{}\\sigma_1 & 0 \\\\ 0 & \\sigma_2 \\end{array}} \\right]\n",
    "\\cdot \\left[ {\\begin{array}{} n_1 \\\\ n_2 \\end{array}} \\right]$$"
   ]
  },
  {
   "cell_type": "markdown",
   "metadata": {},
   "source": [
    "Similarily, we can derive equation for triangular element which is not aligned with principal stresses."
   ]
  },
  {
   "cell_type": "markdown",
   "metadata": {},
   "source": [
    "<img width=\"65%\" src=\"images/force_balance_2.png\">"
   ]
  },
  {
   "cell_type": "markdown",
   "metadata": {},
   "source": [
    "According to force balance $\\sum{\\mathbf{F}} = \\mathbf{0}$\n",
    "\n",
    "$$T_1\\cdot dA = \\sigma_{11}\\cdot dA_1 + \\sigma_{21}\\cdot dA_2 = \\sigma_{11}\\cdot dA\\cdot n_1 + \\sigma_{21}\\cdot dA\\cdot n_2$$\n",
    "$$T_2\\cdot dA =  \\sigma_{12}\\cdot dA_1 + \\sigma_{22}\\cdot dA_2 = \\sigma_{12}\\cdot dA\\cdot n_1 + \\sigma_{22}\\cdot dA\\cdot n_2$$\n",
    "\n",
    "or\n",
    "\n",
    "$$\\left[ {\\begin{array}{}T_1 \\\\ T_2 \\end{array}} \\right] =\n",
    "\\left[ {\\begin{array}{}\\sigma_{11} & \\sigma_{21} \\\\ \\sigma_{12} & \\sigma_{22} \\end{array}} \\right]\n",
    "\\cdot \\left[ {\\begin{array}{} n_1 \\\\ n_2 \\end{array}} \\right]$$"
   ]
  },
  {
   "cell_type": "markdown",
   "metadata": {},
   "source": [
    "## Experiment 1\n",
    "Lets explore what is relation between normal and shear stress on randomly oriented planes in 2D."
   ]
  },
  {
   "cell_type": "code",
   "execution_count": 1,
   "metadata": {
    "collapsed": false
   },
   "outputs": [
    {
     "name": "stdout",
     "output_type": "stream",
     "text": [
      "Populating the interactive namespace from numpy and matplotlib\n"
     ]
    }
   ],
   "source": [
    "%pylab inline"
   ]
  },
  {
   "cell_type": "code",
   "execution_count": 2,
   "metadata": {
    "collapsed": false
   },
   "outputs": [
    {
     "data": {
      "image/png": "[encoded data removed]",
      "text/plain": [
       "<matplotlib.figure.Figure at 0x7f01185106d8>"
      ]
     },
     "metadata": {},
     "output_type": "display_data"
    }
   ],
   "source": [
    "S = array([[10, 0], [0, 5]])\n",
    "tau = []\n",
    "sn = []\n",
    "\n",
    "for i in range(5000):\n",
    "    theta = pi*uniform()\n",
    "    n = array([cos(theta), sin(theta)])\n",
    "    sv = dot(S, n)\n",
    "    sn.append(dot(sv, n))\n",
    "    tau.append(norm(sv-n*dot(sv, n)))\n",
    "\n",
    "plot(sn, tau, 'k.')\n",
    "axis('equal')\n",
    "margins(x=0.1, y=0.1)\n",
    "show()"
   ]
  },
  {
   "cell_type": "markdown",
   "metadata": {},
   "source": [
    "The above figure represents **Mohr circle**, named after Christian Otto Mohr, for stress in 2D"
   ]
  },
  {
   "cell_type": "markdown",
   "metadata": {},
   "source": [
    "## Experiment 2\n",
    "Now we will explore what is relation between normal and shear stress on randomly oriented planes in 3D.\n",
    "Note that uniformly distributed unit vectors in 3D are calculated from properly scaled vectors with components chosen from normal distribution."
   ]
  },
  {
   "cell_type": "code",
   "execution_count": 3,
   "metadata": {
    "collapsed": true
   },
   "outputs": [],
   "source": [
    "def rand_vec():\n",
    "    v = normal(size=3)\n",
    "    return v / norm(v)"
   ]
  },
  {
   "cell_type": "code",
   "execution_count": 4,
   "metadata": {
    "collapsed": false
   },
   "outputs": [
    {
     "data": {
      "image/png": "[encoded data removed]",
      "text/plain": [
       "<matplotlib.figure.Figure at 0x7f01176b0828>"
      ]
     },
     "metadata": {},
     "output_type": "display_data"
    }
   ],
   "source": [
    "S = array([[5, 0, 0], [0, 9, 0], [0, 0, 15]])\n",
    "tau = []\n",
    "sn = []\n",
    "\n",
    "for i in range(5000):\n",
    "    n = rand_vec()\n",
    "    sv = dot(S, n)\n",
    "    sn.append(dot(sv, n))\n",
    "    tau.append(norm(sv-n*dot(sv, n)))\n",
    "\n",
    "plot(sn, tau, 'k.')\n",
    "axis('equal')\n",
    "margins(x=0.1, y=0.1)\n",
    "show()\n"
   ]
  },
  {
   "cell_type": "markdown",
   "metadata": {},
   "source": [
    "The above figure represents Mohr's circles for a three-dimensional state of stress"
   ]
  },
  {
   "cell_type": "code",
   "execution_count": 5,
   "metadata": {
    "collapsed": false
   },
   "outputs": [
    {
     "data": {
      "text/html": [
       "<link href='http://fonts.googleapis.com/css?family=Alegreya+SC:400,700italic' rel='stylesheet' type='text/css'>\n",
       "<style>\n",
       "    @font-face {\n",
       "        font-family: \"Computer Modern\";\n",
       "        src: url('http://9dbb143991406a7c655e-aa5fcb0a5a4ec34cff238a2d56ca4144.r56.cf5.rackcdn.com/cmunss.otf');\n",
       "    }\n",
       "    @font-face {\n",
       "        font-family: \"Computer Modern\";\n",
       "        font-weight: bold;\n",
       "        src: url('http://9dbb143991406a7c655e-aa5fcb0a5a4ec34cff238a2d56ca4144.r56.cf5.rackcdn.com/cmunsx.otf');\n",
       "    }\n",
       "    @font-face {\n",
       "        font-family: \"Computer Modern\";\n",
       "        font-style: oblique;\n",
       "        src: url('http://9dbb143991406a7c655e-aa5fcb0a5a4ec34cff238a2d56ca4144.r56.cf5.rackcdn.com/cmunsi.otf');\n",
       "    }\n",
       "    @font-face {\n",
       "        font-family: \"Computer Modern\";\n",
       "        font-weight: bold;\n",
       "        font-style: oblique;\n",
       "        src: url('http://9dbb143991406a7c655e-aa5fcb0a5a4ec34cff238a2d56ca4144.r56.cf5.rackcdn.com/cmunso.otf');\n",
       "    }\n",
       "    div.cell{\n",
       "        width:800px;\n",
       "        margin-left:16% !important;\n",
       "        margin-right:auto;\n",
       "    }\n",
       "    h1 {\n",
       "        font-family: 'Alegreya SC', serif;\n",
       "    }\n",
       "    h4{\n",
       "        margin-top:12px;\n",
       "        margin-bottom: 3px;\n",
       "       }\n",
       "    div.text_cell_render{\n",
       "        font-family: Computer Modern, \"Helvetica Neue\", Arial, Helvetica, Geneva, sans-serif;\n",
       "        line-height: 125%;\n",
       "        font-size: 130%;\n",
       "        width:800px;\n",
       "        margin-left:auto;\n",
       "        margin-right:auto;\n",
       "    }\n",
       "    .text_cell_render p {\n",
       "        text-align: justify;\n",
       "        text-justify: inter-word;\n",
       "    }\n",
       "    .text_cell_render h1 {\n",
       "        font-size: 50pt;\n",
       "        line-height: 100%;\n",
       "        color:#772953;\n",
       "        margin-bottom: 0.5em;\n",
       "        margin-top: 0.5em;\n",
       "        display: block;\n",
       "    }\n",
       "    .text_cell_render h5 {\n",
       "        font-weight: 300;\n",
       "        font-size: 22pt;\n",
       "        color: #4057A1;\n",
       "        font-style: italic;\n",
       "        margin-bottom: .5em;\n",
       "        margin-top: 0.5em;\n",
       "        display: block;\n",
       "    }\n",
       "    .CodeMirror{\n",
       "            font-family: \"Source Code Pro\", source-code-pro,Consolas, monospace;\n",
       "    }\n",
       "    .prompt{\n",
       "        display: None;\n",
       "    }\n",
       "    .warning{\n",
       "        color: rgb( 240, 20, 20 )\n",
       "        }  \n",
       "</style>\n",
       "<script>\n",
       "    MathJax.Hub.Config({\n",
       "                        TeX: {\n",
       "                           extensions: [\"AMSmath.js\"]\n",
       "                           },\n",
       "                tex2jax: {\n",
       "                    inlineMath: [ ['$','$'], [\"\\\\(\",\"\\\\)\"] ],\n",
       "                    displayMath: [ ['$$','$$'], [\"\\\\[\",\"\\\\]\"] ]\n",
       "                },\n",
       "                displayAlign: 'center', // Change this to 'center' to center equations.\n",
       "                \"HTML-CSS\": {\n",
       "                    styles: {'.MathJax_Display': {\"margin\": 4}}\n",
       "                }\n",
       "        });\n",
       "</script>\n"
      ],
      "text/plain": [
       "<IPython.core.display.HTML object>"
      ]
     },
     "execution_count": 5,
     "metadata": {},
     "output_type": "execute_result"
    }
   ],
   "source": [
    "from IPython.core.display import HTML\n",
    "def css_styling():\n",
    "    styles = open(\"./css/sg2.css\", \"r\").read()\n",
    "    return HTML(styles)\n",
    "css_styling()"
   ]
  }
 ],
 "metadata": {
  "kernelspec": {
   "display_name": "Python 3",
   "language": "python",
   "name": "python3"
  },
  "language_info": {
   "codemirror_mode": {
    "name": "ipython",
    "version": 3
   },
   "file_extension": ".py",
   "mimetype": "text/x-python",
   "name": "python",
   "nbconvert_exporter": "python",
   "pygments_lexer": "ipython3",
   "version": "3.4.4"
  }
 },
 "nbformat": 4,
 "nbformat_minor": 0
}
